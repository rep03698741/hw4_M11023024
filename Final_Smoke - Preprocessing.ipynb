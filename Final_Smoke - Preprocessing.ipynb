{
 "cells": [
  {
   "cell_type": "code",
   "execution_count": 1,
   "metadata": {},
   "outputs": [],
   "source": [
    "import pandas as pd\n",
    "import numpy as np\n",
    "import matplotlib.pyplot as plt\n",
    "import seaborn as sns\n",
    "from scipy.stats import norm\n",
    "from collections import Counter\n",
    "from sklearn.preprocessing import LabelEncoder\n",
    "from sklearn.model_selection import GridSearchCV\n",
    "from sklearn.ensemble import RandomForestClassifier, AdaBoostClassifier\n",
    "from sklearn.svm import SVC\n",
    "import sklearn.metrics as metrics\n",
    "from sklearn.metrics import accuracy_score, r2_score, make_scorer, classification_report, confusion_matrix\n",
    "from sklearn import preprocessing\n",
    "from math import sqrt\n",
    "from sklearn.model_selection import train_test_split\n",
    "import time\n",
    "from scipy.stats import norm\n",
    "from tqdm import tqdm"
   ]
  },
  {
   "cell_type": "code",
   "execution_count": 2,
   "metadata": {},
   "outputs": [
    {
     "data": {
      "text/html": [
       "<div>\n",
       "<style scoped>\n",
       "    .dataframe tbody tr th:only-of-type {\n",
       "        vertical-align: middle;\n",
       "    }\n",
       "\n",
       "    .dataframe tbody tr th {\n",
       "        vertical-align: top;\n",
       "    }\n",
       "\n",
       "    .dataframe thead th {\n",
       "        text-align: right;\n",
       "    }\n",
       "</style>\n",
       "<table border=\"1\" class=\"dataframe\">\n",
       "  <thead>\n",
       "    <tr style=\"text-align: right;\">\n",
       "      <th></th>\n",
       "      <th>ID</th>\n",
       "      <th>TS</th>\n",
       "      <th>X01</th>\n",
       "      <th>X02</th>\n",
       "      <th>X03</th>\n",
       "      <th>X04</th>\n",
       "      <th>X05</th>\n",
       "      <th>X06</th>\n",
       "      <th>X07</th>\n",
       "      <th>X08</th>\n",
       "      <th>...</th>\n",
       "      <th>X16</th>\n",
       "      <th>X17</th>\n",
       "      <th>X18</th>\n",
       "      <th>X19</th>\n",
       "      <th>X20</th>\n",
       "      <th>X21</th>\n",
       "      <th>X22</th>\n",
       "      <th>X23</th>\n",
       "      <th>X24</th>\n",
       "      <th>Y</th>\n",
       "    </tr>\n",
       "  </thead>\n",
       "  <tbody>\n",
       "    <tr>\n",
       "      <th>0</th>\n",
       "      <td>1</td>\n",
       "      <td>2018/1/1 0:00</td>\n",
       "      <td>41.83</td>\n",
       "      <td>124.94</td>\n",
       "      <td>263.22</td>\n",
       "      <td>300.57</td>\n",
       "      <td>10.35</td>\n",
       "      <td>10.39</td>\n",
       "      <td>10.32</td>\n",
       "      <td>90.28</td>\n",
       "      <td>...</td>\n",
       "      <td>7.37</td>\n",
       "      <td>18.0</td>\n",
       "      <td>3776.31</td>\n",
       "      <td>24.0</td>\n",
       "      <td>0.05</td>\n",
       "      <td>10.35</td>\n",
       "      <td>7.93</td>\n",
       "      <td>78.01</td>\n",
       "      <td>358689.0</td>\n",
       "      <td>3</td>\n",
       "    </tr>\n",
       "    <tr>\n",
       "      <th>1</th>\n",
       "      <td>2</td>\n",
       "      <td>2018/1/1 0:06</td>\n",
       "      <td>41.97</td>\n",
       "      <td>125.30</td>\n",
       "      <td>262.12</td>\n",
       "      <td>300.53</td>\n",
       "      <td>10.33</td>\n",
       "      <td>10.40</td>\n",
       "      <td>10.34</td>\n",
       "      <td>89.50</td>\n",
       "      <td>...</td>\n",
       "      <td>7.40</td>\n",
       "      <td>18.0</td>\n",
       "      <td>3760.59</td>\n",
       "      <td>24.0</td>\n",
       "      <td>0.00</td>\n",
       "      <td>9.67</td>\n",
       "      <td>7.97</td>\n",
       "      <td>78.08</td>\n",
       "      <td>339139.0</td>\n",
       "      <td>3</td>\n",
       "    </tr>\n",
       "    <tr>\n",
       "      <th>2</th>\n",
       "      <td>3</td>\n",
       "      <td>2018/1/1 0:12</td>\n",
       "      <td>41.90</td>\n",
       "      <td>125.00</td>\n",
       "      <td>261.45</td>\n",
       "      <td>300.29</td>\n",
       "      <td>10.35</td>\n",
       "      <td>10.41</td>\n",
       "      <td>10.33</td>\n",
       "      <td>89.74</td>\n",
       "      <td>...</td>\n",
       "      <td>7.44</td>\n",
       "      <td>18.0</td>\n",
       "      <td>3754.59</td>\n",
       "      <td>24.0</td>\n",
       "      <td>0.00</td>\n",
       "      <td>9.68</td>\n",
       "      <td>7.98</td>\n",
       "      <td>79.50</td>\n",
       "      <td>326082.0</td>\n",
       "      <td>3</td>\n",
       "    </tr>\n",
       "    <tr>\n",
       "      <th>3</th>\n",
       "      <td>4</td>\n",
       "      <td>2018/1/1 0:18</td>\n",
       "      <td>42.33</td>\n",
       "      <td>125.25</td>\n",
       "      <td>262.12</td>\n",
       "      <td>298.94</td>\n",
       "      <td>10.31</td>\n",
       "      <td>10.41</td>\n",
       "      <td>10.33</td>\n",
       "      <td>89.69</td>\n",
       "      <td>...</td>\n",
       "      <td>7.47</td>\n",
       "      <td>18.0</td>\n",
       "      <td>3746.73</td>\n",
       "      <td>8.0</td>\n",
       "      <td>5.28</td>\n",
       "      <td>10.92</td>\n",
       "      <td>7.95</td>\n",
       "      <td>80.07</td>\n",
       "      <td>321295.0</td>\n",
       "      <td>3</td>\n",
       "    </tr>\n",
       "    <tr>\n",
       "      <th>4</th>\n",
       "      <td>5</td>\n",
       "      <td>2018/1/1 0:24</td>\n",
       "      <td>42.37</td>\n",
       "      <td>125.03</td>\n",
       "      <td>262.94</td>\n",
       "      <td>301.73</td>\n",
       "      <td>10.33</td>\n",
       "      <td>10.40</td>\n",
       "      <td>10.32</td>\n",
       "      <td>90.20</td>\n",
       "      <td>...</td>\n",
       "      <td>7.50</td>\n",
       "      <td>18.0</td>\n",
       "      <td>3748.58</td>\n",
       "      <td>8.0</td>\n",
       "      <td>4.60</td>\n",
       "      <td>11.12</td>\n",
       "      <td>7.94</td>\n",
       "      <td>79.96</td>\n",
       "      <td>339248.0</td>\n",
       "      <td>2</td>\n",
       "    </tr>\n",
       "  </tbody>\n",
       "</table>\n",
       "<p>5 rows × 27 columns</p>\n",
       "</div>"
      ],
      "text/plain": [
       "   ID             TS    X01     X02     X03     X04    X05    X06    X07  \\\n",
       "0   1  2018/1/1 0:00  41.83  124.94  263.22  300.57  10.35  10.39  10.32   \n",
       "1   2  2018/1/1 0:06  41.97  125.30  262.12  300.53  10.33  10.40  10.34   \n",
       "2   3  2018/1/1 0:12  41.90  125.00  261.45  300.29  10.35  10.41  10.33   \n",
       "3   4  2018/1/1 0:18  42.33  125.25  262.12  298.94  10.31  10.41  10.33   \n",
       "4   5  2018/1/1 0:24  42.37  125.03  262.94  301.73  10.33  10.40  10.32   \n",
       "\n",
       "     X08  ...   X16   X17      X18   X19   X20    X21   X22    X23       X24  \\\n",
       "0  90.28  ...  7.37  18.0  3776.31  24.0  0.05  10.35  7.93  78.01  358689.0   \n",
       "1  89.50  ...  7.40  18.0  3760.59  24.0  0.00   9.67  7.97  78.08  339139.0   \n",
       "2  89.74  ...  7.44  18.0  3754.59  24.0  0.00   9.68  7.98  79.50  326082.0   \n",
       "3  89.69  ...  7.47  18.0  3746.73   8.0  5.28  10.92  7.95  80.07  321295.0   \n",
       "4  90.20  ...  7.50  18.0  3748.58   8.0  4.60  11.12  7.94  79.96  339248.0   \n",
       "\n",
       "   Y  \n",
       "0  3  \n",
       "1  3  \n",
       "2  3  \n",
       "3  3  \n",
       "4  2  \n",
       "\n",
       "[5 rows x 27 columns]"
      ]
     },
     "execution_count": 2,
     "metadata": {},
     "output_type": "execute_result"
    }
   ],
   "source": [
    "df = pd.read_csv(\"train.csv\")\n",
    "df.head()"
   ]
  },
  {
   "cell_type": "code",
   "execution_count": 3,
   "metadata": {},
   "outputs": [
    {
     "data": {
      "text/html": [
       "<div>\n",
       "<style scoped>\n",
       "    .dataframe tbody tr th:only-of-type {\n",
       "        vertical-align: middle;\n",
       "    }\n",
       "\n",
       "    .dataframe tbody tr th {\n",
       "        vertical-align: top;\n",
       "    }\n",
       "\n",
       "    .dataframe thead th {\n",
       "        text-align: right;\n",
       "    }\n",
       "</style>\n",
       "<table border=\"1\" class=\"dataframe\">\n",
       "  <thead>\n",
       "    <tr style=\"text-align: right;\">\n",
       "      <th></th>\n",
       "      <th>ID</th>\n",
       "      <th>TS</th>\n",
       "      <th>X01</th>\n",
       "      <th>X02</th>\n",
       "      <th>X03</th>\n",
       "      <th>X04</th>\n",
       "      <th>X05</th>\n",
       "      <th>X06</th>\n",
       "      <th>X07</th>\n",
       "      <th>X08</th>\n",
       "      <th>...</th>\n",
       "      <th>X15</th>\n",
       "      <th>X16</th>\n",
       "      <th>X17</th>\n",
       "      <th>X18</th>\n",
       "      <th>X19</th>\n",
       "      <th>X20</th>\n",
       "      <th>X21</th>\n",
       "      <th>X22</th>\n",
       "      <th>X23</th>\n",
       "      <th>X24</th>\n",
       "    </tr>\n",
       "  </thead>\n",
       "  <tbody>\n",
       "    <tr>\n",
       "      <th>0</th>\n",
       "      <td>1</td>\n",
       "      <td>2018/1/1 5:12</td>\n",
       "      <td>41.61</td>\n",
       "      <td>124.91</td>\n",
       "      <td>262.32</td>\n",
       "      <td>300.96</td>\n",
       "      <td>10.36</td>\n",
       "      <td>10.40</td>\n",
       "      <td>10.33</td>\n",
       "      <td>93.21</td>\n",
       "      <td>...</td>\n",
       "      <td>6416.88</td>\n",
       "      <td>7.32</td>\n",
       "      <td>18.0</td>\n",
       "      <td>3605.31</td>\n",
       "      <td>8.0</td>\n",
       "      <td>114.12</td>\n",
       "      <td>26.99</td>\n",
       "      <td>7.94</td>\n",
       "      <td>79.36</td>\n",
       "      <td>314391.0</td>\n",
       "    </tr>\n",
       "    <tr>\n",
       "      <th>1</th>\n",
       "      <td>2</td>\n",
       "      <td>2018/1/1 5:42</td>\n",
       "      <td>40.98</td>\n",
       "      <td>125.06</td>\n",
       "      <td>259.96</td>\n",
       "      <td>297.68</td>\n",
       "      <td>10.36</td>\n",
       "      <td>10.42</td>\n",
       "      <td>10.33</td>\n",
       "      <td>86.64</td>\n",
       "      <td>...</td>\n",
       "      <td>6398.13</td>\n",
       "      <td>7.20</td>\n",
       "      <td>18.0</td>\n",
       "      <td>3574.34</td>\n",
       "      <td>30.0</td>\n",
       "      <td>0.00</td>\n",
       "      <td>18.96</td>\n",
       "      <td>7.93</td>\n",
       "      <td>77.41</td>\n",
       "      <td>308945.0</td>\n",
       "    </tr>\n",
       "    <tr>\n",
       "      <th>2</th>\n",
       "      <td>3</td>\n",
       "      <td>2018/1/1 5:54</td>\n",
       "      <td>41.55</td>\n",
       "      <td>124.87</td>\n",
       "      <td>261.75</td>\n",
       "      <td>299.36</td>\n",
       "      <td>10.34</td>\n",
       "      <td>10.40</td>\n",
       "      <td>10.33</td>\n",
       "      <td>88.41</td>\n",
       "      <td>...</td>\n",
       "      <td>6396.88</td>\n",
       "      <td>7.27</td>\n",
       "      <td>18.0</td>\n",
       "      <td>3542.92</td>\n",
       "      <td>30.0</td>\n",
       "      <td>0.00</td>\n",
       "      <td>19.77</td>\n",
       "      <td>7.95</td>\n",
       "      <td>79.74</td>\n",
       "      <td>301684.0</td>\n",
       "    </tr>\n",
       "    <tr>\n",
       "      <th>3</th>\n",
       "      <td>4</td>\n",
       "      <td>2018/1/1 9:00</td>\n",
       "      <td>41.72</td>\n",
       "      <td>124.96</td>\n",
       "      <td>261.59</td>\n",
       "      <td>297.80</td>\n",
       "      <td>10.34</td>\n",
       "      <td>10.38</td>\n",
       "      <td>10.33</td>\n",
       "      <td>86.41</td>\n",
       "      <td>...</td>\n",
       "      <td>6417.50</td>\n",
       "      <td>8.04</td>\n",
       "      <td>18.0</td>\n",
       "      <td>3436.62</td>\n",
       "      <td>10.0</td>\n",
       "      <td>832.15</td>\n",
       "      <td>40.83</td>\n",
       "      <td>7.91</td>\n",
       "      <td>88.66</td>\n",
       "      <td>287037.0</td>\n",
       "    </tr>\n",
       "    <tr>\n",
       "      <th>4</th>\n",
       "      <td>5</td>\n",
       "      <td>2018/1/1 14:18</td>\n",
       "      <td>42.87</td>\n",
       "      <td>125.09</td>\n",
       "      <td>264.50</td>\n",
       "      <td>302.26</td>\n",
       "      <td>10.36</td>\n",
       "      <td>10.23</td>\n",
       "      <td>10.47</td>\n",
       "      <td>90.97</td>\n",
       "      <td>...</td>\n",
       "      <td>6437.50</td>\n",
       "      <td>7.68</td>\n",
       "      <td>22.0</td>\n",
       "      <td>4225.99</td>\n",
       "      <td>13.0</td>\n",
       "      <td>1232.97</td>\n",
       "      <td>6.19</td>\n",
       "      <td>7.84</td>\n",
       "      <td>82.65</td>\n",
       "      <td>308094.0</td>\n",
       "    </tr>\n",
       "  </tbody>\n",
       "</table>\n",
       "<p>5 rows × 26 columns</p>\n",
       "</div>"
      ],
      "text/plain": [
       "   ID              TS    X01     X02     X03     X04    X05    X06    X07  \\\n",
       "0   1   2018/1/1 5:12  41.61  124.91  262.32  300.96  10.36  10.40  10.33   \n",
       "1   2   2018/1/1 5:42  40.98  125.06  259.96  297.68  10.36  10.42  10.33   \n",
       "2   3   2018/1/1 5:54  41.55  124.87  261.75  299.36  10.34  10.40  10.33   \n",
       "3   4   2018/1/1 9:00  41.72  124.96  261.59  297.80  10.34  10.38  10.33   \n",
       "4   5  2018/1/1 14:18  42.87  125.09  264.50  302.26  10.36  10.23  10.47   \n",
       "\n",
       "     X08  ...      X15   X16   X17      X18   X19      X20    X21   X22  \\\n",
       "0  93.21  ...  6416.88  7.32  18.0  3605.31   8.0   114.12  26.99  7.94   \n",
       "1  86.64  ...  6398.13  7.20  18.0  3574.34  30.0     0.00  18.96  7.93   \n",
       "2  88.41  ...  6396.88  7.27  18.0  3542.92  30.0     0.00  19.77  7.95   \n",
       "3  86.41  ...  6417.50  8.04  18.0  3436.62  10.0   832.15  40.83  7.91   \n",
       "4  90.97  ...  6437.50  7.68  22.0  4225.99  13.0  1232.97   6.19  7.84   \n",
       "\n",
       "     X23       X24  \n",
       "0  79.36  314391.0  \n",
       "1  77.41  308945.0  \n",
       "2  79.74  301684.0  \n",
       "3  88.66  287037.0  \n",
       "4  82.65  308094.0  \n",
       "\n",
       "[5 rows x 26 columns]"
      ]
     },
     "execution_count": 3,
     "metadata": {},
     "output_type": "execute_result"
    }
   ],
   "source": [
    "df2 = pd.read_csv(\"test.csv\")\n",
    "df2.head()"
   ]
  },
  {
   "cell_type": "code",
   "execution_count": 4,
   "metadata": {},
   "outputs": [],
   "source": [
    "df.sort_values(['TS'],inplace=True)\n",
    "df2.sort_values(['TS'],inplace=True)\n",
    "df.reset_index(drop=True,inplace=True)\n",
    "df2.reset_index(drop=True,inplace=True)"
   ]
  },
  {
   "cell_type": "markdown",
   "metadata": {},
   "source": [
    "# Outlier"
   ]
  },
  {
   "cell_type": "code",
   "execution_count": 5,
   "metadata": {},
   "outputs": [
    {
     "data": {
      "text/plain": [
       "Index(['ID', 'TS', 'X01', 'X02', 'X03', 'X04', 'X05', 'X06', 'X07', 'X08',\n",
       "       'X09', 'X10', 'X11', 'X12', 'X13', 'X14', 'X15', 'X16', 'X17', 'X18',\n",
       "       'X19', 'X20', 'X21', 'X22', 'X23', 'X24', 'Y'],\n",
       "      dtype='object')"
      ]
     },
     "execution_count": 5,
     "metadata": {},
     "output_type": "execute_result"
    }
   ],
   "source": [
    "df.columns"
   ]
  },
  {
   "cell_type": "code",
   "execution_count": 6,
   "metadata": {},
   "outputs": [],
   "source": [
    "ttt=df.describe()\n",
    "MAX=ttt['X01']\n",
    "a=MAX['mean']\n",
    "b=MAX['std']\n",
    "DOWN=a-3*b\n",
    "UP=a+3*b\n",
    "leave=len(df[(df['X01']>UP)|(df['X01']<DOWN)])"
   ]
  },
  {
   "cell_type": "code",
   "execution_count": 7,
   "metadata": {},
   "outputs": [
    {
     "name": "stdout",
     "output_type": "stream",
     "text": [
      "3 sigamas區間 38.21663017286385 45.615974453487915\n",
      "離群值個數 130\n"
     ]
    },
    {
     "data": {
      "text/plain": [
       "count    20621.000000\n",
       "mean        41.916302\n",
       "std          1.233224\n",
       "min         26.690000\n",
       "25%         41.280000\n",
       "50%         41.890000\n",
       "75%         42.540000\n",
       "max         47.910000\n",
       "Name: X01, dtype: float64"
      ]
     },
     "execution_count": 7,
     "metadata": {},
     "output_type": "execute_result"
    },
    {
     "data": {
      "image/png": "[encoded data removed]",
      "text/plain": [
       "<Figure size 360x360 with 1 Axes>"
      ]
     },
     "metadata": {
      "needs_background": "light"
     },
     "output_type": "display_data"
    }
   ],
   "source": [
    "sns.displot(df['X01'],kde=False)\n",
    "plt.axvline(UP, color='red', linestyle='--')\n",
    "plt.axvline(DOWN, color='red', linestyle='--')\n",
    "print(\"3 sigamas區間\", DOWN, UP)\n",
    "print(\"離群值個數\", leave)\n",
    "MAX"
   ]
  },
  {
   "cell_type": "code",
   "execution_count": 8,
   "metadata": {},
   "outputs": [],
   "source": [
    "ttt=df.describe()\n",
    "MAX=ttt['X10']\n",
    "a=MAX['mean']\n",
    "b=MAX['std']\n",
    "DOWN=a-3*b\n",
    "UP=a+3*b\n",
    "leave=len(df[(df['X10']>UP)|(df['X10']<DOWN)])"
   ]
  },
  {
   "cell_type": "code",
   "execution_count": 9,
   "metadata": {},
   "outputs": [
    {
     "name": "stdout",
     "output_type": "stream",
     "text": [
      "3 sigamas區間 0.05437498279723485 63.71234729061336\n",
      "離群值個數 495\n"
     ]
    },
    {
     "data": {
      "text/plain": [
       "count    20621.000000\n",
       "mean        31.883361\n",
       "std         10.609662\n",
       "min          8.220000\n",
       "25%         26.700000\n",
       "50%         30.620000\n",
       "75%         34.840000\n",
       "max        143.510000\n",
       "Name: X10, dtype: float64"
      ]
     },
     "execution_count": 9,
     "metadata": {},
     "output_type": "execute_result"
    },
    {
     "data": {
      "image/png": "[encoded data removed]",
      "text/plain": [
       "<Figure size 360x360 with 1 Axes>"
      ]
     },
     "metadata": {
      "needs_background": "light"
     },
     "output_type": "display_data"
    }
   ],
   "source": [
    "sns.displot(df['X10'],kde=False)\n",
    "plt.axvline(UP, color='red', linestyle='--')\n",
    "plt.axvline(DOWN, color='red', linestyle='--')\n",
    "print(\"3 sigamas區間\", DOWN, UP)\n",
    "print(\"離群值個數\", leave)\n",
    "MAX"
   ]
  },
  {
   "cell_type": "code",
   "execution_count": 10,
   "metadata": {},
   "outputs": [
    {
     "data": {
      "text/plain": [
       "5"
      ]
     },
     "execution_count": 10,
     "metadata": {},
     "output_type": "execute_result"
    }
   ],
   "source": [
    "len(df[df['X10']>110])"
   ]
  },
  {
   "cell_type": "code",
   "execution_count": 11,
   "metadata": {},
   "outputs": [
    {
     "data": {
      "text/plain": [
       "71"
      ]
     },
     "execution_count": 11,
     "metadata": {},
     "output_type": "execute_result"
    }
   ],
   "source": [
    "len(df[df['X01']<37])"
   ]
  },
  {
   "cell_type": "code",
   "execution_count": 12,
   "metadata": {},
   "outputs": [],
   "source": [
    "drop_index1=df[(df['X01']<37)|(df['X10']>110)].index\n",
    "df.drop(drop_index1,inplace=True)\n",
    "df.reset_index(drop=True,inplace=True)"
   ]
  },
  {
   "cell_type": "code",
   "execution_count": 13,
   "metadata": {},
   "outputs": [],
   "source": [
    "df.to_csv(\"train_20545.csv\")"
   ]
  },
  {
   "cell_type": "code",
   "execution_count": 14,
   "metadata": {},
   "outputs": [],
   "source": [
    "df2.to_csv(\"Test_fin.csv\")"
   ]
  },
  {
   "cell_type": "code",
   "execution_count": null,
   "metadata": {},
   "outputs": [],
   "source": []
  }
 ],
 "metadata": {
  "kernelspec": {
   "display_name": "Python 3",
   "language": "python",
   "name": "python3"
  },
  "language_info": {
   "codemirror_mode": {
    "name": "ipython",
    "version": 3
   },
   "file_extension": ".py",
   "mimetype": "text/x-python",
   "name": "python",
   "nbconvert_exporter": "python",
   "pygments_lexer": "ipython3",
   "version": "3.6.12"
  }
 },
 "nbformat": 4,
 "nbformat_minor": 4
}
